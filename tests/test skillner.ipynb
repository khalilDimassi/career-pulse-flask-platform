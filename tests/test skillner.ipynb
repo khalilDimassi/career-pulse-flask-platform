{
 "cells": [
  {
   "cell_type": "code",
   "execution_count": 1,
   "metadata": {},
   "outputs": [],
   "source": [
    "import spacy\n",
    "from spacy.matcher import PhraseMatcher\n",
    "from skillNer.general_params import SKILL_DB\n",
    "from skillNer.skill_extractor_class import SkillExtractor"
   ]
  },
  {
   "cell_type": "code",
   "execution_count": 2,
   "metadata": {},
   "outputs": [
    {
     "name": "stdout",
     "output_type": "stream",
     "text": [
      "loading full_matcher ...\n",
      "loading abv_matcher ...\n",
      "loading full_uni_matcher ...\n",
      "loading low_form_matcher ...\n",
      "loading token_matcher ...\n"
     ]
    }
   ],
   "source": [
    "# Load Spacy model\n",
    "nlp = spacy.load(\"en_core_web_lg\")\n",
    "skill_extractor = SkillExtractor(nlp, SKILL_DB, PhraseMatcher)\n",
    "\n",
    "\n",
    "clean_txt = \"\"\"\n",
    "                You are a Python developer with a solid experience in web development\n",
    "                and can manage projects. You quickly adapt to new environments\n",
    "                and speak fluently English and French\n",
    "            \"\"\""
   ]
  },
  {
   "cell_type": "code",
   "execution_count": 4,
   "metadata": {},
   "outputs": [
    {
     "name": "stdout",
     "output_type": "stream",
     "text": [
      "['web development', 'python', 'manage projects', 'adapt', 'english', 'french']\n"
     ]
    }
   ],
   "source": [
    "# Extract skills from the cleaned text\n",
    "doc = nlp(clean_txt)\n",
    "annotations = skill_extractor.annotate(doc.text)\n",
    "skills = [skill['doc_node_value'] for skill in annotations['results']['full_matches']] + [skill['doc_node_value'] for skill in annotations['results']['ngram_scored']]\n",
    "\n",
    "\n",
    "print(skills)"
   ]
  },
  {
   "cell_type": "code",
   "execution_count": null,
   "metadata": {},
   "outputs": [],
   "source": []
  }
 ],
 "metadata": {
  "kernelspec": {
   "display_name": "venv",
   "language": "python",
   "name": "python3"
  },
  "language_info": {
   "codemirror_mode": {
    "name": "ipython",
    "version": 3
   },
   "file_extension": ".py",
   "mimetype": "text/x-python",
   "name": "python",
   "nbconvert_exporter": "python",
   "pygments_lexer": "ipython3",
   "version": "3.11.3"
  },
  "orig_nbformat": 4
 },
 "nbformat": 4,
 "nbformat_minor": 2
}
